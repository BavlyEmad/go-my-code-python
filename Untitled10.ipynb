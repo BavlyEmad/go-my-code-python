{
 "cells": [
  {
   "cell_type": "code",
   "execution_count": 1,
   "id": "0b415f55",
   "metadata": {},
   "outputs": [
    {
     "name": "stdout",
     "output_type": "stream",
     "text": [
      "(1, 2, 3)\n"
     ]
    }
   ],
   "source": [
    "class Point3D:\n",
    "    \n",
    "    def __init__(self,x,y,z):\n",
    "        self.x = x \n",
    "        self.y = y\n",
    "        self.z = z\n",
    "        \n",
    "    def get_(self):\n",
    "        return self.x ,self.y ,self.z\n",
    "         \n",
    "test1 = Point3D(1,2,3)\n",
    "print(test1.get_())\n",
    "        "
   ]
  },
  {
   "cell_type": "code",
   "execution_count": 2,
   "id": "b198af9c",
   "metadata": {},
   "outputs": [
    {
     "name": "stdout",
     "output_type": "stream",
     "text": [
      "12\n",
      "14\n"
     ]
    }
   ],
   "source": [
    "class Rectangle:\n",
    "    def __init__(self, length , width ):\n",
    "        self.length = length\n",
    "        self.width = width\n",
    "        \n",
    "    def area(self):\n",
    "        return self.length * self.width\n",
    "        \n",
    "    def perm(self):\n",
    "        return 2*self.length + 2*self.width\n",
    "        \n",
    "rectangle = Rectangle(4,3)  \n",
    "print(rectangle.area())\n",
    "print(rectangle.perm())"
   ]
  },
  {
   "cell_type": "code",
   "execution_count": 3,
   "id": "173b09f3",
   "metadata": {},
   "outputs": [
    {
     "name": "stdout",
     "output_type": "stream",
     "text": [
      "28.26\n",
      "18.84\n",
      "point is outside the circle\n"
     ]
    }
   ],
   "source": [
    "import math\n",
    "pi = 3.14\n",
    "\n",
    "class Circle:\n",
    "    \n",
    "    def __init__(self,x1,y1,r,x2,y2):\n",
    "        self.x1 =x1\n",
    "        self.y1 =y1\n",
    "        self.r =r\n",
    "        self.x2 =x2\n",
    "        self.y2 =y2\n",
    "        \n",
    "    def area(self):\n",
    "        return pi*(self.r)**2\n",
    "    \n",
    "    def perm(self):\n",
    "        return 2 * pi * (self.r)\n",
    "        \n",
    "    def in_side(self):\n",
    "        if (math.sqrt((self.x2-self.x1)**2 + (self.y2-self.y1)**2)) <= self.r:\n",
    "            return \"point is inside the circle\"\n",
    "        else:\n",
    "            return \"point is outside the circle\"\n",
    "        \n",
    "        \n",
    "        \n",
    "circle_1 = Circle(0,0,3,4,3)\n",
    "print(circle_1.area())\n",
    "print(circle_1.perm())\n",
    "print(circle_1.in_side())\n"
   ]
  },
  {
   "cell_type": "code",
   "execution_count": 4,
   "id": "9d9f9e2b",
   "metadata": {},
   "outputs": [
    {
     "name": "stdout",
     "output_type": "stream",
     "text": [
      "200\n",
      "500\n"
     ]
    }
   ],
   "source": [
    "class Bank:\n",
    "    def __init__(self,balance):\n",
    "        self.balance = balance\n",
    "\n",
    "    def withdraw(self,num):\n",
    "        self.balance -= num\n",
    "        return self.balance\n",
    "        \n",
    "    def deposit(self,num):\n",
    "        self.balance += num\n",
    "        return self.balance\n",
    "        \n",
    "money = Bank(500)\n",
    "print(money.withdraw(300))\n",
    "print(money.deposit(300))\n",
    "\n"
   ]
  },
  {
   "cell_type": "code",
   "execution_count": null,
   "id": "1de4e5d8",
   "metadata": {},
   "outputs": [],
   "source": []
  }
 ],
 "metadata": {
  "kernelspec": {
   "display_name": "Python 3 (ipykernel)",
   "language": "python",
   "name": "python3"
  },
  "language_info": {
   "codemirror_mode": {
    "name": "ipython",
    "version": 3
   },
   "file_extension": ".py",
   "mimetype": "text/x-python",
   "name": "python",
   "nbconvert_exporter": "python",
   "pygments_lexer": "ipython3",
   "version": "3.9.12"
  }
 },
 "nbformat": 4,
 "nbformat_minor": 5
}
