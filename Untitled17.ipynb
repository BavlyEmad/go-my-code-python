{
 "cells": [
  {
   "cell_type": "code",
   "execution_count": 1,
   "id": "40f47549",
   "metadata": {},
   "outputs": [
    {
     "name": "stdout",
     "output_type": "stream",
     "text": [
      "False\n",
      "True\n"
     ]
    }
   ],
   "source": [
    "def binary_search(lis,item):\n",
    "    if item in lis:\n",
    "        print(True)\n",
    "    else:\n",
    "        print(False)\n",
    "binary_search([1,2,3,5,8],6) \n",
    "binary_search([1,2,3,5,8],5)"
   ]
  },
  {
   "cell_type": "code",
   "execution_count": 2,
   "id": "5b9ab513",
   "metadata": {},
   "outputs": [
    {
     "name": "stdout",
     "output_type": "stream",
     "text": [
      "81\n"
     ]
    }
   ],
   "source": [
    "def power(num,power):\n",
    "    print(num ** power)\n",
    "power(3,4)    "
   ]
  },
  {
   "cell_type": "code",
   "execution_count": 3,
   "id": "63238f1e",
   "metadata": {},
   "outputs": [
    {
     "name": "stdout",
     "output_type": "stream",
     "text": [
      "[13, 22, 29, 37, 46, 49, 52, 56, 71]\n"
     ]
    }
   ],
   "source": [
    "def sort(lis):\n",
    "    for j in range(len(lis)):\n",
    "        for i in range(len(lis)-1):\n",
    "            if lis[i] > lis[i+1]:\n",
    "                lis[i],lis[i+1] = lis[i+1],lis[i]\n",
    "    print(lis)   \n",
    "    \n",
    "sort([29,13,22,37,52,49,46,71,56])        "
   ]
  },
  {
   "cell_type": "code",
   "execution_count": 4,
   "id": "d32adf49",
   "metadata": {},
   "outputs": [
    {
     "name": "stdout",
     "output_type": "stream",
     "text": [
      "[13, 22, 29, 37, 46, 49, 52, 56, 71]\n"
     ]
    }
   ],
   "source": [
    "def mergeSort(lis):\n",
    "    if len(lis) > 1:\n",
    "        mid = len(lis) // 2\n",
    "        left_lis = lis[:mid]\n",
    "        right_lis = lis[mid:]\n",
    "        mergeSort(left_lis)\n",
    "        mergeSort(right_lis)\n",
    "\n",
    "        \n",
    "        i = 0\n",
    "        j = 0\n",
    "        k = 0\n",
    "        while i < len(left_lis) and j < len(right_lis):\n",
    "           if left_lis[i] <= right_lis[j]:\n",
    "             lis[k] = left_lis[i]\n",
    "             i += 1\n",
    "           else:\n",
    "             lis[k] = right_lis[j]\n",
    "             j += 1\n",
    "           k += 1\n",
    "\n",
    "        while i < len(left_lis):\n",
    "          lis[k] = left_lis[i]\n",
    "          i += 1\n",
    "          k += 1\n",
    "\n",
    "        while j < len(right_lis):\n",
    "          lis[k]=right_lis[j]\n",
    "          j += 1\n",
    "          k += 1\n",
    "\n",
    "lis = [29,13,22,37,52,49,46,71,56]\n",
    "mergeSort(lis)\n",
    "print(lis)\n"
   ]
  },
  {
   "cell_type": "code",
   "execution_count": 5,
   "id": "6f6b6f6f",
   "metadata": {},
   "outputs": [
    {
     "name": "stdout",
     "output_type": "stream",
     "text": [
      "[13, 22, 29, 37, 46, 49, 52, 56, 71]\n"
     ]
    }
   ],
   "source": [
    "def sort(lis):\n",
    "    len_ = len(lis)\n",
    "    if len_ <= 1:\n",
    "        return lis\n",
    "    else:\n",
    "        pivot = lis.pop()\n",
    "        greater =[]\n",
    "        smaller =[]\n",
    "        for i in lis:\n",
    "            if i > pivot:\n",
    "                greater.append(i)\n",
    "            else:\n",
    "                smaller.append(i)\n",
    "    return sort(smaller) + [pivot]+ sort(greater) \n",
    "lis = [29,13,22,37,52,49,46,71,56]  \n",
    "print(sort(lis))"
   ]
  },
  {
   "cell_type": "code",
   "execution_count": null,
   "id": "b2d82368",
   "metadata": {},
   "outputs": [],
   "source": []
  }
 ],
 "metadata": {
  "kernelspec": {
   "display_name": "Python 3 (ipykernel)",
   "language": "python",
   "name": "python3"
  },
  "language_info": {
   "codemirror_mode": {
    "name": "ipython",
    "version": 3
   },
   "file_extension": ".py",
   "mimetype": "text/x-python",
   "name": "python",
   "nbconvert_exporter": "python",
   "pygments_lexer": "ipython3",
   "version": "3.9.12"
  }
 },
 "nbformat": 4,
 "nbformat_minor": 5
}
