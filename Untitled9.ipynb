{
 "cells": [
  {
   "cell_type": "code",
   "execution_count": 1,
   "id": "601999ce",
   "metadata": {},
   "outputs": [
    {
     "name": "stdout",
     "output_type": "stream",
     "text": [
      "35\n"
     ]
    }
   ],
   "source": [
    "list1 = [20,35,19]\n",
    "def max_(list1):\n",
    "    if list1[0] > list1[1] and list1[0] > list1[2]:\n",
    "        print(list1[0])\n",
    "    if list1[1] > list1[0] and list1[1] > list1[2]:\n",
    "        print(list1[1])\n",
    "    else:\n",
    "        print(list1[2])\n",
    "max_(list1) "
   ]
  },
  {
   "cell_type": "code",
   "execution_count": 3,
   "id": "62083162",
   "metadata": {},
   "outputs": [
    {
     "name": "stdout",
     "output_type": "stream",
     "text": [
      "Enter first number: 50\n",
      "Enter second number: 30\n",
      "80\n",
      "20\n"
     ]
    }
   ],
   "source": [
    "x = int(input(\"Enter first number: \"))\n",
    "y = int(input(\"Enter second number: \"))\n",
    "def sum_(x,y):\n",
    "    print(x+y)\n",
    "def sub_(x,y):\n",
    "    print(x-y)\n",
    "    \n",
    "sum_(x,y)\n",
    "sub_(x,y)"
   ]
  },
  {
   "cell_type": "code",
   "execution_count": 4,
   "id": "fc3d1c50",
   "metadata": {},
   "outputs": [
    {
     "name": "stdout",
     "output_type": "stream",
     "text": [
      "62\n",
      "35\n"
     ]
    }
   ],
   "source": [
    "mylist=[1,5,6,52,7,4]\n",
    "even = []\n",
    "odd = []\n",
    "evenR = 0\n",
    "oddR = 1\n",
    "for i in mylist:\n",
    "    if i % 2 == 0:\n",
    "        even.append(i)\n",
    "    else:\n",
    "        odd.append(i)\n",
    "def sum_(even,evenR):\n",
    "    for i in even:\n",
    "        evenR += i\n",
    "    print(evenR)\n",
    "def mult_(odd,oddR):\n",
    "    for i in odd:\n",
    "        oddR = oddR * i\n",
    "    print(oddR)\n",
    "sum_(even,evenR)\n",
    "mult_(odd,oddR)"
   ]
  },
  {
   "cell_type": "code",
   "execution_count": 5,
   "id": "77bc40fb",
   "metadata": {},
   "outputs": [
    {
     "name": "stdout",
     "output_type": "stream",
     "text": [
      "['black', 'green', 'red', 'white', 'yellow']\n"
     ]
    }
   ],
   "source": [
    "str1 = \"green red yellow black white\"\n",
    "list1 = str1.split()\n",
    "def sorting(list1):\n",
    "     print(sorted(list1))\n",
    "sorting(list1)  "
   ]
  },
  {
   "cell_type": "code",
   "execution_count": null,
   "id": "e20a233e",
   "metadata": {},
   "outputs": [],
   "source": []
  }
 ],
 "metadata": {
  "kernelspec": {
   "display_name": "Python 3 (ipykernel)",
   "language": "python",
   "name": "python3"
  },
  "language_info": {
   "codemirror_mode": {
    "name": "ipython",
    "version": 3
   },
   "file_extension": ".py",
   "mimetype": "text/x-python",
   "name": "python",
   "nbconvert_exporter": "python",
   "pygments_lexer": "ipython3",
   "version": "3.9.12"
  }
 },
 "nbformat": 4,
 "nbformat_minor": 5
}
