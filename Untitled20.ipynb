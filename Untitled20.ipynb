{
 "cells": [
  {
   "cell_type": "code",
   "execution_count": 1,
   "id": "5d1ba378",
   "metadata": {},
   "outputs": [
    {
     "name": "stdout",
     "output_type": "stream",
     "text": [
      "Enter the length of the countdown in seconds 5\n",
      "Fire in the hole\n"
     ]
    }
   ],
   "source": [
    "import time\n",
    "\n",
    "def countdown():\n",
    "    t = int(input(\"Enter the length of the countdown in seconds \"))\n",
    "    while t:\n",
    "        min , sec = divmod(t,60)\n",
    "        timer = min , sec\n",
    "        print(timer , end = \"\\r\")\n",
    "        time.sleep(1)\n",
    "        t -= 1\n",
    "    print(\"Fire in the hole\")\n",
    "countdown()  "
   ]
  },
  {
   "cell_type": "code",
   "execution_count": null,
   "id": "5cd64ba4",
   "metadata": {},
   "outputs": [],
   "source": []
  }
 ],
 "metadata": {
  "kernelspec": {
   "display_name": "Python 3 (ipykernel)",
   "language": "python",
   "name": "python3"
  },
  "language_info": {
   "codemirror_mode": {
    "name": "ipython",
    "version": 3
   },
   "file_extension": ".py",
   "mimetype": "text/x-python",
   "name": "python",
   "nbconvert_exporter": "python",
   "pygments_lexer": "ipython3",
   "version": "3.9.12"
  }
 },
 "nbformat": 4,
 "nbformat_minor": 5
}
