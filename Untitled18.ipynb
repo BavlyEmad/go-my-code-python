{
 "cells": [
  {
   "cell_type": "code",
   "execution_count": 2,
   "id": "e076c88f",
   "metadata": {},
   "outputs": [
    {
     "name": "stdout",
     "output_type": "stream",
     "text": [
      "Enter the first name: AJAY\n",
      "Enter the second name: PRIYA\n",
      "Friends\n"
     ]
    }
   ],
   "source": [
    "lis = [\"Friends\",\"Lovers\",\"Affectionate\",\"Marriage\",\"Enemies\",\"Siblings\"] \n",
    "\n",
    "x = str(input(\"Enter the first name: \"))\n",
    "y = str(input(\"Enter the second name: \"))\n",
    "x = x.lower()\n",
    "y = y.lower()\n",
    "\n",
    "\n",
    "for i in x:\n",
    "    for j in y:\n",
    "        if i == j:\n",
    "            x = x.replace(i,\"\",1)\n",
    "            y = y.replace(j,\"\",1)\n",
    "            \n",
    "num = (len(x+y))\n",
    "\n",
    "if num>0:\n",
    "    while len(lis) > 1:\n",
    "        s_index = (num % len(lis)-1)\n",
    "        if s_index >= 0:\n",
    "            left = lis[:s_index]\n",
    "            right = lis[s_index+1:]\n",
    "            lis = right+left\n",
    "        else:\n",
    "            lis = lis[:len(lis)-1]\n",
    "print(lis[0]) "
   ]
  },
  {
   "cell_type": "code",
   "execution_count": null,
   "id": "c8250a02",
   "metadata": {},
   "outputs": [],
   "source": []
  }
 ],
 "metadata": {
  "kernelspec": {
   "display_name": "Python 3 (ipykernel)",
   "language": "python",
   "name": "python3"
  },
  "language_info": {
   "codemirror_mode": {
    "name": "ipython",
    "version": 3
   },
   "file_extension": ".py",
   "mimetype": "text/x-python",
   "name": "python",
   "nbconvert_exporter": "python",
   "pygments_lexer": "ipython3",
   "version": "3.9.12"
  }
 },
 "nbformat": 4,
 "nbformat_minor": 5
}
