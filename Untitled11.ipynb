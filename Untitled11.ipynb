{
 "cells": [
  {
   "cell_type": "code",
   "execution_count": 1,
   "id": "3a5e9929",
   "metadata": {},
   "outputs": [
    {
     "name": "stdout",
     "output_type": "stream",
     "text": [
      "<class 'numpy.ndarray'>\n",
      "<class 'list'>\n"
     ]
    }
   ],
   "source": [
    "import numpy as np\n",
    "\n",
    "array = np.array([1,2,3])\n",
    "print(type(array))\n",
    "\n",
    "array = array.tolist()\n",
    "print(type(array))"
   ]
  },
  {
   "cell_type": "code",
   "execution_count": 2,
   "id": "3dfb4b94",
   "metadata": {},
   "outputs": [
    {
     "name": "stdout",
     "output_type": "stream",
     "text": [
      "[[  3   5   6]\n",
      " [  9  10  66]\n",
      " [100  55   7]]\n",
      "20\n"
     ]
    }
   ],
   "source": [
    "import numpy as np\n",
    "\n",
    "a = np.array([[3,5,6],[9,10,66],[100,55,7]])\n",
    "b = [ ]\n",
    "final = 0\n",
    "\n",
    "for i in range(len(a)):\n",
    "    b.append(a[i,i])\n",
    "\n",
    "for i in b:\n",
    "    final += i\n",
    "    \n",
    "print(a)    \n",
    "print(final)   "
   ]
  },
  {
   "cell_type": "code",
   "execution_count": 3,
   "id": "e1c80b77",
   "metadata": {},
   "outputs": [
    {
     "name": "stdout",
     "output_type": "stream",
     "text": [
      "[3, 5]\n"
     ]
    }
   ],
   "source": [
    "import numpy as np\n",
    "\n",
    "arr = np.array([(1,2),(3,5)])\n",
    "lis = arr.tolist()\n",
    "f_lis = [ ]\n",
    "x = 2\n",
    "c = [ ]\n",
    "\n",
    "for i in range(len(lis)):#convert two list in 1 list\n",
    "    f_lis += lis[i]\n",
    "    \n",
    "for i in f_lis:#check if it is greater than x \n",
    "    if i > x:\n",
    "        c.append(i)\n",
    "print(c)\n",
    "    "
   ]
  },
  {
   "cell_type": "code",
   "execution_count": 4,
   "id": "8c76df67",
   "metadata": {},
   "outputs": [
    {
     "name": "stdout",
     "output_type": "stream",
     "text": [
      "[[10 10]\n",
      " [10 10]]\n"
     ]
    }
   ],
   "source": [
    "import numpy as np\n",
    "\n",
    "A=np.array([[5,4],[3,2]])\n",
    "B=np.array([[5,6],[7,8]])\n",
    "\n",
    "C = np.add(A,B)\n",
    "print(C)"
   ]
  },
  {
   "cell_type": "code",
   "execution_count": null,
   "id": "b7d4f69c",
   "metadata": {},
   "outputs": [],
   "source": []
  }
 ],
 "metadata": {
  "kernelspec": {
   "display_name": "Python 3 (ipykernel)",
   "language": "python",
   "name": "python3"
  },
  "language_info": {
   "codemirror_mode": {
    "name": "ipython",
    "version": 3
   },
   "file_extension": ".py",
   "mimetype": "text/x-python",
   "name": "python",
   "nbconvert_exporter": "python",
   "pygments_lexer": "ipython3",
   "version": "3.9.12"
  }
 },
 "nbformat": 4,
 "nbformat_minor": 5
}
